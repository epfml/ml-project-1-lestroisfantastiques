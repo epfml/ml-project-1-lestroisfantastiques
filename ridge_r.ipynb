{
 "cells": [
  {
   "cell_type": "code",
   "execution_count": 62,
   "metadata": {},
   "outputs": [
    {
     "name": "stdout",
     "output_type": "stream",
     "text": [
      "The autoreload extension is already loaded. To reload it, use:\n",
      "  %reload_ext autoreload\n"
     ]
    }
   ],
   "source": [
    "# Useful starting lines\n",
    "%matplotlib inline\n",
    "import numpy as np\n",
    "import matplotlib.pyplot as plt\n",
    "\n",
    "%load_ext autoreload\n",
    "%autoreload 2\n"
   ]
  },
  {
   "cell_type": "code",
   "execution_count": 48,
   "metadata": {},
   "outputs": [],
   "source": [
    "from helpers import load_csv_data\n",
    "\n",
    "# load data.\n",
    "PATH = \"data/dataset/\"\n",
    "x_train, x_test, y_train, train_ids, test_ids = load_csv_data(\"data/dataset/\", sub_sample=False)"
   ]
  },
  {
   "cell_type": "code",
   "execution_count": 49,
   "metadata": {},
   "outputs": [
    {
     "data": {
      "text/plain": [
       "array([20.78      , 28.7       , 28.03300679, ..., 58.53      ,\n",
       "       35.87      , 22.81      ])"
      ]
     },
     "execution_count": 49,
     "metadata": {},
     "output_type": "execute_result"
    }
   ],
   "source": [
    "#weight_ratio, filling nan with mean\n",
    "weight_ratio = x_train[:,252]\n",
    "weight_ratio_filled = weight_ratio\n",
    "weight_ratio_filled[np.isnan(weight_ratio_filled)]=np.mean(weight_ratio_filled[~np.isnan(weight_ratio_filled)])\n",
    "weight_ratio_filled"
   ]
  },
  {
   "cell_type": "code",
   "execution_count": 50,
   "metadata": {},
   "outputs": [
    {
     "data": {
      "text/plain": [
       "array([ 8.,  8., 10., ..., 10.,  5.,  7.])"
      ]
     },
     "execution_count": 50,
     "metadata": {},
     "output_type": "execute_result"
    }
   ],
   "source": [
    "#age5y, filling nan with mean\n",
    "age = x_train[:,245]\n",
    "age_filled = age\n",
    "age_filled[np.isnan(age_filled)]=np.mean(age_filled[~np.isnan(age_filled)])\n",
    "age_filled"
   ]
  },
  {
   "cell_type": "code",
   "execution_count": 51,
   "metadata": {},
   "outputs": [
    {
     "data": {
      "text/plain": [
       "(328135, 2)"
      ]
     },
     "execution_count": 51,
     "metadata": {},
     "output_type": "execute_result"
    }
   ],
   "source": [
    "x_train = np.c_[weight_ratio_filled, age_filled]\n",
    "x_train.shape"
   ]
  },
  {
   "cell_type": "code",
   "execution_count": 52,
   "metadata": {},
   "outputs": [],
   "source": [
    "#Selecting an equal number of people with heart attack and those who has not\n",
    "\n",
    "# Identifiez les indices des patients avec un arrêt cardiaque (y=1) et sans (y=0)\n",
    "indices_y1 = np.where(y_train == 1)[0]\n",
    "indices_y0 = np.where(y_train == 0)[0]\n",
    "\n"
   ]
  },
  {
   "cell_type": "code",
   "execution_count": 53,
   "metadata": {},
   "outputs": [
    {
     "name": "stdout",
     "output_type": "stream",
     "text": [
      "indices selectionés: [ 55063 138932 200666 ...  99397 174821  67664]\n",
      "indices selectionés y0: [ 90032 136594  58090 ... 216880 234709  46085]\n"
     ]
    }
   ],
   "source": [
    "\n",
    "# Sélectionnez un nombre égal d'indices aléatoires pour les deux classes\n",
    "num_samples = min(len(indices_y1), len(indices_y0))\n",
    "selected_indices_y1 = np.random.choice(indices_y1, num_samples, replace=False)\n",
    "selected_indices_y0 = np.random.choice(indices_y0, num_samples, replace=False)\n",
    "\n",
    "print('indices selectionés:', selected_indices_y1)\n",
    "print('indices selectionés y0:', selected_indices_y0)\n",
    "\n",
    "# Combinez les indices sélectionnés pour former un ensemble de données équilibré\n",
    "selected_indices = np.concatenate((selected_indices_y1, selected_indices_y0))\n",
    "\n",
    "# Sélectionnez les données correspondantes à ces indices \n",
    "balanced_x_train = x_train[selected_indices]\n",
    "balanced_y_train = y_train[selected_indices]"
   ]
  },
  {
   "cell_type": "code",
   "execution_count": 54,
   "metadata": {},
   "outputs": [
    {
     "data": {
      "text/plain": [
       "(57950, 2)"
      ]
     },
     "execution_count": 54,
     "metadata": {},
     "output_type": "execute_result"
    }
   ],
   "source": [
    "balanced_x_train.shape"
   ]
  },
  {
   "cell_type": "code",
   "execution_count": 90,
   "metadata": {},
   "outputs": [
    {
     "data": {
      "text/plain": [
       "array([[ 1.23872596, -0.88375283],\n",
       "       [-0.29796388,  1.24659145],\n",
       "       [ 0.02781437,  0.02925186],\n",
       "       ...,\n",
       "       [-0.0828273 ,  0.02925186],\n",
       "       [-0.89880961, -2.40542732],\n",
       "       [-0.36404154, -0.57941793]])"
      ]
     },
     "execution_count": 90,
     "metadata": {},
     "output_type": "execute_result"
    }
   ],
   "source": [
    "from helpers import standardize\n",
    "balanced_x_train_std = np.c_[standardize(balanced_x_train[:,0]).reshape(-1), standardize(balanced_x_train[:,1]).reshape(-1)]\n",
    "balanced_x_train_std\n"
   ]
  },
  {
   "cell_type": "code",
   "execution_count": 91,
   "metadata": {},
   "outputs": [],
   "source": [
    "\n",
    "X = balanced_x_train_std\n",
    "y = balanced_y_train\n",
    "# Specify the proportion of data to use for the test set (in this example, 20%)\n",
    "test_size = 0.2\n",
    "split_index = int(len(X) * (1 - test_size))\n",
    "\n",
    "# Split the data into training and testing sets\n",
    "X_train, X_test_in = X[:split_index], X[split_index:]\n",
    "y_train, y_test_in = y[:split_index], y[split_index:]\n",
    "\n",
    "# You can now use X_train and y_train to train your model\n",
    "# and X_test and y_test to evaluate the model's performance."
   ]
  },
  {
   "cell_type": "code",
   "execution_count": null,
   "metadata": {},
   "outputs": [],
   "source": []
  },
  {
   "cell_type": "code",
   "execution_count": 12,
   "metadata": {},
   "outputs": [
    {
     "data": {
      "text/plain": [
       "(46360, 7)"
      ]
     },
     "execution_count": 12,
     "metadata": {},
     "output_type": "execute_result"
    }
   ],
   "source": []
  },
  {
   "cell_type": "code",
   "execution_count": 104,
   "metadata": {},
   "outputs": [],
   "source": [
    "from implementations import ridge_regression"
   ]
  },
  {
   "cell_type": "code",
   "execution_count": 105,
   "metadata": {},
   "outputs": [],
   "source": [
    "from helpers import build_poly"
   ]
  },
  {
   "cell_type": "code",
   "execution_count": 109,
   "metadata": {},
   "outputs": [
    {
     "name": "stdout",
     "output_type": "stream",
     "text": [
      "For polynomial expansion up to degree 3, the choice of lambda which leads to the best test rmse is 0.00010 with a test rmse of 0.435\n"
     ]
    }
   ],
   "source": [
    "from cross_validation import *\n",
    "\n",
    "best_lambda, best_rmse = cross_validation_demo(3, 3, np.logspace(-4, 0, 30), y_train, X_train)\n",
    "\n"
   ]
  },
  {
   "cell_type": "code",
   "execution_count": null,
   "metadata": {},
   "outputs": [],
   "source": []
  },
  {
   "cell_type": "code",
   "execution_count": 110,
   "metadata": {},
   "outputs": [],
   "source": [
    "#test \n",
    "\n",
    "X_poly = build_poly(X_train, 3)\n",
    "w_opt = ridge_regression(y_train, X_poly, best_lambda)"
   ]
  },
  {
   "cell_type": "code",
   "execution_count": 111,
   "metadata": {},
   "outputs": [],
   "source": [
    "X_test_poly = build_poly(X_test_in, 3)\n",
    "y_pred = np.dot(X_test_poly, w_opt)"
   ]
  },
  {
   "cell_type": "code",
   "execution_count": 112,
   "metadata": {},
   "outputs": [
    {
     "data": {
      "text/plain": [
       "(0.09458636971759167, 0.1565122840591741)"
      ]
     },
     "execution_count": 112,
     "metadata": {},
     "output_type": "execute_result"
    }
   ],
   "source": [
    "from implementations import compute_mse\n",
    "\n",
    "mse = compute_mse(y_train, X_poly, w_opt)\n",
    "test_mse = compute_mse(y_test_in, X_test_poly, w_opt)\n",
    "mse, test_mse"
   ]
  },
  {
   "cell_type": "code",
   "execution_count": 113,
   "metadata": {},
   "outputs": [
    {
     "data": {
      "text/plain": [
       "(11590, 6495.0)"
      ]
     },
     "execution_count": 113,
     "metadata": {},
     "output_type": "execute_result"
    }
   ],
   "source": [
    "y_pred[y_pred<0.5]=0\n",
    "y_pred[y_pred>=0.5]=1\n",
    "len(y_pred), sum(y_pred)"
   ]
  },
  {
   "cell_type": "code",
   "execution_count": null,
   "metadata": {},
   "outputs": [],
   "source": []
  }
 ],
 "metadata": {
  "kernelspec": {
   "display_name": "base",
   "language": "python",
   "name": "python3"
  },
  "language_info": {
   "codemirror_mode": {
    "name": "ipython",
    "version": 3
   },
   "file_extension": ".py",
   "mimetype": "text/x-python",
   "name": "python",
   "nbconvert_exporter": "python",
   "pygments_lexer": "ipython3",
   "version": "3.10.9"
  }
 },
 "nbformat": 4,
 "nbformat_minor": 2
}
