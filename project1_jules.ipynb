{
 "cells": [
  {
   "cell_type": "code",
   "execution_count": 1,
   "id": "0aae6150",
   "metadata": {},
   "outputs": [],
   "source": [
    "%matplotlib inline\n",
    "import numpy as np\n",
    "import matplotlib.pyplot as plt\n",
    "%load_ext autoreload\n",
    "%autoreload 2"
   ]
  },
  {
   "cell_type": "code",
   "execution_count": 2,
   "id": "a3dc8ea6",
   "metadata": {},
   "outputs": [],
   "source": [
    "from helpers import *"
   ]
  },
  {
   "cell_type": "code",
   "execution_count": 3,
   "id": "dc6b060f",
   "metadata": {},
   "outputs": [],
   "source": [
    "PATH = \"data/dataset/\"\n",
    "x_train, x_test, y_train, train_ids, test_ids = load_csv_data(\"data/dataset/\", sub_sample=False)"
   ]
  },
  {
   "cell_type": "code",
   "execution_count": 18,
   "id": "666d85b1",
   "metadata": {},
   "outputs": [
    {
     "data": {
      "text/plain": [
       "array([[1.1000000e+01, 1.1162015e+07, 1.1000000e+01, ...,           nan,\n",
       "                  nan, 2.0000000e+00],\n",
       "       [1.2000000e+01, 1.2152015e+07, 1.2000000e+01, ...,           nan,\n",
       "                  nan,           nan],\n",
       "       [1.0000000e+01, 1.0202015e+07, 1.0000000e+01, ..., 1.0000000e+00,\n",
       "        2.0000000e+00, 2.0000000e+00],\n",
       "       ...,\n",
       "       [1.0000000e+01, 1.0202015e+07, 1.0000000e+01, ..., 2.0000000e+00,\n",
       "        2.0000000e+00, 2.0000000e+00],\n",
       "       [1.2000000e+01, 1.2302015e+07, 1.2000000e+01, ...,           nan,\n",
       "                  nan, 2.0000000e+00],\n",
       "       [9.0000000e+00, 9.1220150e+06, 9.0000000e+00, ...,           nan,\n",
       "                  nan, 2.0000000e+00]])"
      ]
     },
     "execution_count": 18,
     "metadata": {},
     "output_type": "execute_result"
    }
   ],
   "source": [
    "x_train"
   ]
  },
  {
   "cell_type": "code",
   "execution_count": null,
   "id": "75684b02",
   "metadata": {},
   "outputs": [],
   "source": []
  },
  {
   "cell_type": "code",
   "execution_count": 6,
   "id": "c0d0140c",
   "metadata": {},
   "outputs": [],
   "source": []
  },
  {
   "cell_type": "code",
   "execution_count": 7,
   "id": "273f8217",
   "metadata": {},
   "outputs": [
    {
     "data": {
      "text/plain": [
       "array([1., 1., 1., ..., 1., 1., 1.])"
      ]
     },
     "execution_count": 7,
     "metadata": {},
     "output_type": "execute_result"
    }
   ],
   "source": [
    "y"
   ]
  },
  {
   "cell_type": "markdown",
   "id": "8bfb5ef8",
   "metadata": {},
   "source": []
  }
 ],
 "metadata": {
  "kernelspec": {
   "display_name": "Python 3 (ipykernel)",
   "language": "python",
   "name": "python3"
  },
  "language_info": {
   "codemirror_mode": {
    "name": "ipython",
    "version": 3
   },
   "file_extension": ".py",
   "mimetype": "text/x-python",
   "name": "python",
   "nbconvert_exporter": "python",
   "pygments_lexer": "ipython3",
   "version": "3.10.9"
  }
 },
 "nbformat": 4,
 "nbformat_minor": 5
}
